{
 "cells": [
  {
   "cell_type": "code",
   "execution_count": 1,
   "metadata": {},
   "outputs": [],
   "source": [
    "import sqlalchemy\n",
    "import pandas as pd\n",
    "import os\n",
    "import pymysql\n",
    "from sqlalchemy import create_engine\n",
    "from sqlalchemy import inspect\n",
    "import openpyxl\n",
    "%reload_ext autoreload\n",
    "%autoreload 2\n",
    "from geolocate import geolocate_batch"
   ]
  },
  {
   "cell_type": "code",
   "execution_count": 2,
   "metadata": {},
   "outputs": [],
   "source": [
    "server = 'localhost'\n",
    "database = 't_obras'\n",
    "username = 'root'\n",
    "password = input(\"Digite a senha do mysql: \")\n",
    "driver = 'mysql+pymysql'\n",
    "connection_string = f'{driver}://{username}:{password}@{server}/{database}'\n",
    "engine = sqlalchemy.create_engine(connection_string)"
   ]
  },
  {
   "cell_type": "code",
   "execution_count": 3,
   "metadata": {},
   "outputs": [
    {
     "data": {
      "text/html": [
       "<div>\n",
       "<style scoped>\n",
       "    .dataframe tbody tr th:only-of-type {\n",
       "        vertical-align: middle;\n",
       "    }\n",
       "\n",
       "    .dataframe tbody tr th {\n",
       "        vertical-align: top;\n",
       "    }\n",
       "\n",
       "    .dataframe thead th {\n",
       "        text-align: right;\n",
       "    }\n",
       "</style>\n",
       "<table border=\"1\" class=\"dataframe\">\n",
       "  <thead>\n",
       "    <tr style=\"text-align: right;\">\n",
       "      <th></th>\n",
       "      <th>CD_OBRA</th>\n",
       "      <th>ORGAO_CONTRATANTE</th>\n",
       "      <th>ORGAO_EXECUTOR</th>\n",
       "      <th>NR_PROCESSO</th>\n",
       "      <th>NM_FAVORECIDO</th>\n",
       "      <th>CNPJ</th>\n",
       "    </tr>\n",
       "  </thead>\n",
       "  <tbody>\n",
       "    <tr>\n",
       "      <th>0</th>\n",
       "      <td>1</td>\n",
       "      <td>GEO-RIO - Fundação Instituto de Geotécnica do ...</td>\n",
       "      <td>GEO-RIO - Fundação Instituto de Geotécnica do ...</td>\n",
       "      <td>0006/101231/2011</td>\n",
       "      <td>CONCREMAT ENGENHARIA E TECNOLOGIA S.A.</td>\n",
       "      <td>33.146.648/0001-20</td>\n",
       "    </tr>\n",
       "    <tr>\n",
       "      <th>1</th>\n",
       "      <td>2</td>\n",
       "      <td>GEO-RIO - Fundação Instituto de Geotécnica do ...</td>\n",
       "      <td>GEO-RIO - Fundação Instituto de Geotécnica do ...</td>\n",
       "      <td>0006/101244/2011</td>\n",
       "      <td>SOLOTESTE ENGENHARIA LTDA</td>\n",
       "      <td>33.456.492/0001-83</td>\n",
       "    </tr>\n",
       "    <tr>\n",
       "      <th>2</th>\n",
       "      <td>3</td>\n",
       "      <td>GEO-RIO - Fundação Instituto de Geotécnica do ...</td>\n",
       "      <td>GEO-RIO - Fundação Instituto de Geotécnica do ...</td>\n",
       "      <td>0006/101243/2011</td>\n",
       "      <td>RESITEC DE TERESOPOLIS CONSTRUCOES LTDA.</td>\n",
       "      <td>03.253.042/0001-22</td>\n",
       "    </tr>\n",
       "    <tr>\n",
       "      <th>3</th>\n",
       "      <td>4</td>\n",
       "      <td>GEO-RIO - Fundação Instituto de Geotécnica do ...</td>\n",
       "      <td>GEO-RIO - Fundação Instituto de Geotécnica do ...</td>\n",
       "      <td>0006/101242/2011</td>\n",
       "      <td>SEEL SERVICOS ESPECIAIS DE ENGENHARIA LTDA</td>\n",
       "      <td>72.030.927/0001-85</td>\n",
       "    </tr>\n",
       "    <tr>\n",
       "      <th>4</th>\n",
       "      <td>5</td>\n",
       "      <td>GEO-RIO - Fundação Instituto de Geotécnica do ...</td>\n",
       "      <td>GEO-RIO - Fundação Instituto de Geotécnica do ...</td>\n",
       "      <td>0006/101248/2011</td>\n",
       "      <td>J.S.32 CONSTRUCOES LTDA</td>\n",
       "      <td>09.466.677/0001-94</td>\n",
       "    </tr>\n",
       "  </tbody>\n",
       "</table>\n",
       "</div>"
      ],
      "text/plain": [
       "   CD_OBRA                                  ORGAO_CONTRATANTE  \\\n",
       "0        1  GEO-RIO - Fundação Instituto de Geotécnica do ...   \n",
       "1        2  GEO-RIO - Fundação Instituto de Geotécnica do ...   \n",
       "2        3  GEO-RIO - Fundação Instituto de Geotécnica do ...   \n",
       "3        4  GEO-RIO - Fundação Instituto de Geotécnica do ...   \n",
       "4        5  GEO-RIO - Fundação Instituto de Geotécnica do ...   \n",
       "\n",
       "                                      ORGAO_EXECUTOR           NR_PROCESSO  \\\n",
       "0  GEO-RIO - Fundação Instituto de Geotécnica do ...  0006/101231/2011       \n",
       "1  GEO-RIO - Fundação Instituto de Geotécnica do ...  0006/101244/2011       \n",
       "2  GEO-RIO - Fundação Instituto de Geotécnica do ...  0006/101243/2011       \n",
       "3  GEO-RIO - Fundação Instituto de Geotécnica do ...  0006/101242/2011       \n",
       "4  GEO-RIO - Fundação Instituto de Geotécnica do ...  0006/101248/2011       \n",
       "\n",
       "                                NM_FAVORECIDO                CNPJ  \n",
       "0      CONCREMAT ENGENHARIA E TECNOLOGIA S.A.  33.146.648/0001-20  \n",
       "1                   SOLOTESTE ENGENHARIA LTDA  33.456.492/0001-83  \n",
       "2    RESITEC DE TERESOPOLIS CONSTRUCOES LTDA.  03.253.042/0001-22  \n",
       "3  SEEL SERVICOS ESPECIAIS DE ENGENHARIA LTDA  72.030.927/0001-85  \n",
       "4                     J.S.32 CONSTRUCOES LTDA  09.466.677/0001-94  "
      ]
     },
     "execution_count": 3,
     "metadata": {},
     "output_type": "execute_result"
    }
   ],
   "source": [
    "orgaos = pd.read_sql_table('work_nome_orgaos', con=engine)\n",
    "orgaos.head()"
   ]
  },
  {
   "cell_type": "code",
   "execution_count": 4,
   "metadata": {},
   "outputs": [
    {
     "data": {
      "text/html": [
       "<div>\n",
       "<style scoped>\n",
       "    .dataframe tbody tr th:only-of-type {\n",
       "        vertical-align: middle;\n",
       "    }\n",
       "\n",
       "    .dataframe tbody tr th {\n",
       "        vertical-align: top;\n",
       "    }\n",
       "\n",
       "    .dataframe thead th {\n",
       "        text-align: right;\n",
       "    }\n",
       "</style>\n",
       "<table border=\"1\" class=\"dataframe\">\n",
       "  <thead>\n",
       "    <tr style=\"text-align: right;\">\n",
       "      <th></th>\n",
       "      <th>Sigla</th>\n",
       "      <th>Nome</th>\n",
       "    </tr>\n",
       "  </thead>\n",
       "  <tbody>\n",
       "    <tr>\n",
       "      <th>0</th>\n",
       "      <td>AC</td>\n",
       "      <td>Secretaria Municipal de Ação Comunitária</td>\n",
       "    </tr>\n",
       "    <tr>\n",
       "      <th>1</th>\n",
       "      <td>CVL</td>\n",
       "      <td>Secretaria Municipal da Casa Civil</td>\n",
       "    </tr>\n",
       "    <tr>\n",
       "      <th>2</th>\n",
       "      <td>F</td>\n",
       "      <td>Secretaria Municipal de Fazenda</td>\n",
       "    </tr>\n",
       "    <tr>\n",
       "      <th>3</th>\n",
       "      <td>FPJ</td>\n",
       "      <td>Fundação Parques e Jardins</td>\n",
       "    </tr>\n",
       "    <tr>\n",
       "      <th>4</th>\n",
       "      <td>GEO-RIO</td>\n",
       "      <td>Fundação Instituto de Geotécnica do Município ...</td>\n",
       "    </tr>\n",
       "  </tbody>\n",
       "</table>\n",
       "</div>"
      ],
      "text/plain": [
       "     Sigla                                               Nome\n",
       "0      AC            Secretaria Municipal de Ação Comunitária\n",
       "1     CVL                  Secretaria Municipal da Casa Civil\n",
       "2       F                     Secretaria Municipal de Fazenda\n",
       "3      FPJ                         Fundação Parques e Jardins\n",
       "4  GEO-RIO  Fundação Instituto de Geotécnica do Município ..."
      ]
     },
     "execution_count": 4,
     "metadata": {},
     "output_type": "execute_result"
    }
   ],
   "source": [
    "excel2 = r'G:\\Outros computadores\\acer\\gits\\transparencia_obras_reformulado\\work_data\\orgaos.xlsx'\n",
    "nome_sigla = pd.read_excel(excel2, sheet_name='orgaos')\n",
    "nome_sigla.head()"
   ]
  },
  {
   "cell_type": "code",
   "execution_count": 5,
   "metadata": {},
   "outputs": [],
   "source": [
    "# unir coluna NM_FAVORECIDO com coluna CNPJ\n",
    "orgaos['NM_FAVORECIDO'] = orgaos['NM_FAVORECIDO'] + ' - ' + orgaos['CNPJ']"
   ]
  },
  {
   "cell_type": "code",
   "execution_count": 6,
   "metadata": {},
   "outputs": [],
   "source": [
    "# apagar coluna CNPJ\n",
    "orgaos.drop('CNPJ', axis=1, inplace=True)"
   ]
  },
  {
   "cell_type": "code",
   "execution_count": 7,
   "metadata": {},
   "outputs": [],
   "source": [
    "# duplicar coluna orgao_contratante\n",
    "orgaos['ORGAO_CONTRATANTE_2'] = orgaos['ORGAO_CONTRATANTE']\n",
    "# extrair texto antes da / da coluina orgao_contratante\n",
    "orgaos['ORGAO_CONTRATANTE'] = orgaos['ORGAO_CONTRATANTE'].str.split('/').str[0]"
   ]
  },
  {
   "cell_type": "code",
   "execution_count": 8,
   "metadata": {},
   "outputs": [],
   "source": [
    "# duplicar coluna orgao_executor\n",
    "orgaos['ORGAO_EXECUTOR_2'] = orgaos['ORGAO_EXECUTOR']\n",
    "# extrair texto antes da / da coluina orgao_executor\n",
    "orgaos['ORGAO_EXECUTOR'] = orgaos['ORGAO_EXECUTOR'].str.split('/').str[0]"
   ]
  },
  {
   "cell_type": "code",
   "execution_count": 10,
   "metadata": {},
   "outputs": [],
   "source": [
    "# RENOMEAR COLUNA ORGAO_CONTRATANTE\n",
    "orgaos.rename(columns={'ORGAO_CONTRATANTE': 'contratante_primeiro_nivel'}, inplace=True)\n",
    "# RENOMEAR COLUNA ORGAO_EXECUTOR\n",
    "orgaos.rename(columns={'ORGAO_EXECUTOR': 'executor_primeiro_nivel'}, inplace=True)"
   ]
  },
  {
   "cell_type": "code",
   "execution_count": 11,
   "metadata": {},
   "outputs": [],
   "source": [
    "orgaos['contratante_primeiro_nivel'] = orgaos['contratante_primeiro_nivel'].replace('RIO-AGUAS', 'RIO-ÁGUAS')\n",
    "orgaos['executor_primeiro_nivel'] = orgaos['executor_primeiro_nivel'].replace('RIO-AGUAS', 'RIO-ÁGUAS')"
   ]
  },
  {
   "cell_type": "code",
   "execution_count": 12,
   "metadata": {},
   "outputs": [],
   "source": [
    "# substituir valores da coluna contratante_primeiro_nivel\n",
    "orgaos['contratante_primeiro_nivel'] = orgaos['contratante_primeiro_nivel'].replace('AC', 'AC - Secretaria Municipal de Ação Comunitária')\n",
    "orgaos['contratante_primeiro_nivel'] = orgaos['contratante_primeiro_nivel'].replace('CVL', 'CVL - Secretaria Municipal da Casa Civil')\n",
    "orgaos['contratante_primeiro_nivel'] = orgaos['contratante_primeiro_nivel'].replace('F', ' F - Secretaria Municipal de Fazenda')\n",
    "orgaos['contratante_primeiro_nivel'] = orgaos['contratante_primeiro_nivel'].replace('FPJ', 'FPJ - Fundação Parques e Jardins')\n",
    "orgaos['contratante_primeiro_nivel'] = orgaos['contratante_primeiro_nivel'].replace('GEO-RIO', 'GEO-RIO - Fundação Instituto de Geotécnica do Município do Rio de Janeiro')\n",
    "orgaos['contratante_primeiro_nivel'] = orgaos['contratante_primeiro_nivel'].replace('H', 'H - Secretaria Municipal de Habitação')\n",
    "orgaos['contratante_primeiro_nivel'] = orgaos['contratante_primeiro_nivel'].replace('I', 'I - Secretaria Municipal de Infraestrutura')\n",
    "orgaos['contratante_primeiro_nivel'] = orgaos['contratante_primeiro_nivel'].replace('IH', 'IH - Secretaria Municipal de Infraestrutura e Habitação')\n",
    "orgaos['contratante_primeiro_nivel'] = orgaos['contratante_primeiro_nivel'].replace('IHC', 'IHC - Secretaria Municipal de Infraestrutura, Habitação e Conservação')\n",
    "orgaos['contratante_primeiro_nivel'] = orgaos['contratante_primeiro_nivel'].replace('O', 'O - Secretaria Municipal de Obras')\n",
    "orgaos['contratante_primeiro_nivel'] = orgaos['contratante_primeiro_nivel'].replace('PREVI-RIO', 'PREVI-RIO - Instituto de Previdência e Assistência')\n",
    "orgaos['contratante_primeiro_nivel'] = orgaos['contratante_primeiro_nivel'].replace('QV', 'QV - Secretaria Municipal do Envelhecimento Saudável e Qualidade de Vida')\n",
    "orgaos['contratante_primeiro_nivel'] = orgaos['contratante_primeiro_nivel'].replace('RIO-ÁGUAS', 'RIO-ÁGUAS - Fundação Instituto das Águas do Município do Rio de Janeiro')\n",
    "orgaos['contratante_primeiro_nivel'] = orgaos['contratante_primeiro_nivel'].replace('RIOLUZ', 'RIOLUZ - Companhia Municipal de Iluminação Pública')\n",
    "orgaos['contratante_primeiro_nivel'] = orgaos['contratante_primeiro_nivel'].replace('RIO-URBE', 'RIO-URBE - Empresa Municipal de Urbanização')\n",
    "orgaos['contratante_primeiro_nivel'] = orgaos['contratante_primeiro_nivel'].replace('SC', 'SC - Secretaria Municipal de Conservação')\n",
    "orgaos['contratante_primeiro_nivel'] = orgaos['contratante_primeiro_nivel'].replace('SCMA', 'SCMA - Secretaria Municipal de Conservação e Meio Ambiente')\n",
    "orgaos['contratante_primeiro_nivel'] = orgaos['contratante_primeiro_nivel'].replace('SECONSERVA', 'SECONSERVA - Secretaria Municipal de Conservação')\n",
    "orgaos['contratante_primeiro_nivel'] = orgaos['contratante_primeiro_nivel'].replace('SEMESQV', 'SEMESQV - Secretaria Municipal do Envelhecimento Saudável e Qualidade de Vida')\n",
    "orgaos['contratante_primeiro_nivel'] = orgaos['contratante_primeiro_nivel'].replace('SMA', 'SMA - Secretaria Municipal de Administração ')\n",
    "orgaos['contratante_primeiro_nivel'] = orgaos['contratante_primeiro_nivel'].replace('SMA', 'SMA - Secretaria Municipal de Fazenda')\n",
    "orgaos['contratante_primeiro_nivel'] = orgaos['contratante_primeiro_nivel'].replace('SMH', 'SMH - Secretaria Municipal de Habitação')\n",
    "orgaos['contratante_primeiro_nivel'] = orgaos['contratante_primeiro_nivel'].replace('SMHC', 'SMHC - Secretaria Municipal de Habitação e Cidadania')\n",
    "orgaos['contratante_primeiro_nivel'] = orgaos['contratante_primeiro_nivel'].replace('SMIH', 'SMIH - Secretaria Municipal de Infraestrutura e Habitação')\n",
    "orgaos['contratante_primeiro_nivel'] = orgaos['contratante_primeiro_nivel'].replace('SMIHC', 'Secretaria Municipal de Infraestrutura, Habitação e Conservação')\n",
    "orgaos['contratante_primeiro_nivel'] = orgaos['contratante_primeiro_nivel'].replace('SMO', 'SMIHC - Secretaria Municipal de Obras')\n",
    "orgaos['contratante_primeiro_nivel'] = orgaos['contratante_primeiro_nivel'].replace('SMUIH', 'SMUIH - Secretaria Municipal de Urbanismo, Infraestrutura e Habitação')\n",
    "orgaos['contratante_primeiro_nivel'] = orgaos['contratante_primeiro_nivel'].replace('UIH', 'UIH - Secretaria Municipal de Urbanismo, Infraestrutura e Habitação')\n",
    "orgaos['contratante_primeiro_nivel'] = orgaos['contratante_primeiro_nivel'].replace('SMAR', 'SMAR - Secretaria Municipal de Saneamento e Recursos Hídricos')\n",
    "orgaos['contratante_primeiro_nivel'] = orgaos['contratante_primeiro_nivel'].replace('MULTIRIO', 'MULTIRIO - Empresa Municipal de Multimeios Ltda')"
   ]
  },
  {
   "cell_type": "code",
   "execution_count": 13,
   "metadata": {},
   "outputs": [],
   "source": [
    "orgaos['executor_primeiro_nivel'] = orgaos['executor_primeiro_nivel'].replace('AC', 'AC - Secretaria Municipal de Ação Comunitária')\n",
    "orgaos['executor_primeiro_nivel'] = orgaos['executor_primeiro_nivel'].replace('CVL', 'CVL - Secretaria Municipal da Casa Civil')\n",
    "orgaos['executor_primeiro_nivel'] = orgaos['executor_primeiro_nivel'].replace('F', 'F - Secretaria Municipal de Fazenda')\n",
    "orgaos['executor_primeiro_nivel'] = orgaos['executor_primeiro_nivel'].replace('FPJ', 'FPJ - Fundação Parques e Jardins')\n",
    "orgaos['executor_primeiro_nivel'] = orgaos['executor_primeiro_nivel'].replace('GEO-RIO', 'GEO-RIO - Fundação Instituto de Geotécnica do Município do Rio de Janeiro')\n",
    "orgaos['executor_primeiro_nivel'] = orgaos['executor_primeiro_nivel'].replace('H', 'H - Secretaria Municipal de Habitação')\n",
    "orgaos['executor_primeiro_nivel'] = orgaos['executor_primeiro_nivel'].replace('I', 'I - Secretaria Municipal de Infraestrutura')\n",
    "orgaos['executor_primeiro_nivel'] = orgaos['executor_primeiro_nivel'].replace('IH', 'IH - Secretaria Municipal de Infraestrutura e Habitação')\n",
    "orgaos['executor_primeiro_nivel'] = orgaos['executor_primeiro_nivel'].replace('IHC', 'IHC - Secretaria Municipal de Infraestrutura, Habitação e Conservação')\n",
    "orgaos['executor_primeiro_nivel'] = orgaos['executor_primeiro_nivel'].replace('O', 'O - Secretaria Municipal de Obras')\n",
    "orgaos['executor_primeiro_nivel'] = orgaos['executor_primeiro_nivel'].replace('PREVI-RIO', 'PREVI-RIO - Instituto de Previdência e Assistência')\n",
    "orgaos['executor_primeiro_nivel'] = orgaos['executor_primeiro_nivel'].replace('QV', 'QV - Secretaria Municipal do Envelhecimento Saudável e Qualidade de Vida')\n",
    "orgaos['executor_primeiro_nivel'] = orgaos['executor_primeiro_nivel'].replace('RIO-ÁGUAS', 'RIO-ÁGUAS - Fundação Instituto das Águas do Município do Rio de Janeiro')\n",
    "orgaos['executor_primeiro_nivel'] = orgaos['executor_primeiro_nivel'].replace('RIOLUZ', 'RIOLUZ - Companhia Municipal de Iluminação Pública')\n",
    "orgaos['executor_primeiro_nivel'] = orgaos['executor_primeiro_nivel'].replace('RIO-URBE', 'RIO-URBE - Empresa Municipal de Urbanização')\n",
    "orgaos['executor_primeiro_nivel'] = orgaos['executor_primeiro_nivel'].replace('SC', 'SC - Secretaria Municipal de Conservação')\n",
    "orgaos['executor_primeiro_nivel'] = orgaos['executor_primeiro_nivel'].replace('SCMA', 'SCMA - Secretaria Municipal de Conservação e Meio Ambiente')\n",
    "orgaos['executor_primeiro_nivel'] = orgaos['executor_primeiro_nivel'].replace('SECONSERVA', 'SECONSERVA - Secretaria Municipal de Conservação')\n",
    "orgaos['executor_primeiro_nivel'] = orgaos['executor_primeiro_nivel'].replace('SEMESQV', 'SEMESQV - Secretaria Municipal do Envelhecimento Saudável e Qualidade de Vida')\n",
    "orgaos['executor_primeiro_nivel'] = orgaos['executor_primeiro_nivel'].replace('SMA', 'SMA - Secretaria Municipal de Administração ')\n",
    "orgaos['executor_primeiro_nivel'] = orgaos['executor_primeiro_nivel'].replace('SMF', 'SMF - Secretaria Municipal de Fazenda')\n",
    "orgaos['executor_primeiro_nivel'] = orgaos['executor_primeiro_nivel'].replace('SMH', 'SMH - Secretaria Municipal de Habitação')\n",
    "orgaos['executor_primeiro_nivel'] = orgaos['executor_primeiro_nivel'].replace('SMHC', 'SMHC - Secretaria Municipal de Habitação e Cidadania')\n",
    "orgaos['executor_primeiro_nivel'] = orgaos['executor_primeiro_nivel'].replace('SMIH', 'SMIH - Secretaria Municipal de Infraestrutura e Habitação')\n",
    "orgaos['executor_primeiro_nivel'] = orgaos['executor_primeiro_nivel'].replace('SMIHC', 'SMIHC - Secretaria Municipal de Infraestrutura, Habitação e Conservação')\n",
    "orgaos['executor_primeiro_nivel'] = orgaos['executor_primeiro_nivel'].replace('SMO', 'SMO - Secretaria Municipal de Obras')\n",
    "orgaos['executor_primeiro_nivel'] = orgaos['executor_primeiro_nivel'].replace('SMUIH', 'SMUIH - Secretaria Municipal de Urbanismo, Infraestrutura e Habitação')\n",
    "orgaos['executor_primeiro_nivel'] = orgaos['executor_primeiro_nivel'].replace('UIH', 'UIH - Secretaria Municipal de Urbanismo, Infraestrutura e Habitação')\n",
    "orgaos['executor_primeiro_nivel'] = orgaos['executor_primeiro_nivel'].replace('SEAC-RIO', 'SEAC-RIO - Sindicato das Empresas de Asseio e Conservação do Rio de Janeiro')\n",
    "orgaos['executor_primeiro_nivel'] = orgaos['executor_primeiro_nivel'].replace('CASA CIVIL', 'CASA CIVIL - Secretaria Municipal da Casa Civil')\n",
    "orgaos['executor_primeiro_nivel'] = orgaos['executor_primeiro_nivel'].replace('SME', 'SME - Secretaria Municipal de Educação')\n",
    "orgaos['executor_primeiro_nivel'] = orgaos['executor_primeiro_nivel'].replace('SMI', 'SMI - Secretaria Municipal de Infraestrutura')\n",
    "orgaos['executor_primeiro_nivel'] = orgaos['executor_primeiro_nivel'].replace('SMS', 'SMS - Secretaria Municipal de Saúde')\n",
    "orgaos['executor_primeiro_nivel'] = orgaos['executor_primeiro_nivel'].replace('SMC', 'SMC - Secretaria Municipal de Cultura')\n",
    "orgaos['executor_primeiro_nivel'] = orgaos['executor_primeiro_nivel'].replace('SMU', 'SMU - Secretaria Municipal de Urbanismo')\n",
    "orgaos['executor_primeiro_nivel'] = orgaos['executor_primeiro_nivel'].replace('SMFP', 'SMFP - Secretaria Municipal de Fazenda e Planejamento')\n",
    "orgaos['executor_primeiro_nivel'] = orgaos['executor_primeiro_nivel'].replace('SECONSERMA', 'SECONSERMA - Secretaria Municipal de Conservação e Meio Ambiente')\n",
    "orgaos['executor_primeiro_nivel'] = orgaos['executor_primeiro_nivel'].replace('SMAR', 'SMAR - Secretaria Municipal de Saneamento e Recursos Hídricos')\n",
    "orgaos['executor_primeiro_nivel'] = orgaos['executor_primeiro_nivel'].replace('MULTIRIO', 'MULTIRIO - Empresa Municipal de Multimeios Ltda')"
   ]
  },
  {
   "cell_type": "code",
   "execution_count": 14,
   "metadata": {},
   "outputs": [],
   "source": [
    "# atulizar o banco de dados\n",
    "orgaos.to_sql('work_nome_orgaos', engine, if_exists='replace', index=False)"
   ]
  }
 ],
 "metadata": {
  "kernelspec": {
   "display_name": "venv",
   "language": "python",
   "name": "python3"
  },
  "language_info": {
   "codemirror_mode": {
    "name": "ipython",
    "version": 3
   },
   "file_extension": ".py",
   "mimetype": "text/x-python",
   "name": "python",
   "nbconvert_exporter": "python",
   "pygments_lexer": "ipython3",
   "version": "3.9.13"
  },
  "orig_nbformat": 4,
  "vscode": {
   "interpreter": {
    "hash": "5f35d92bf6fef493df1ba9eb67bd95da997717391b5dddca2de59342f956eeae"
   }
  }
 },
 "nbformat": 4,
 "nbformat_minor": 2
}
